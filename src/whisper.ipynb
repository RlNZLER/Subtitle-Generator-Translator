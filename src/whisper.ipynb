{
  "cells": [
    {
      "cell_type": "markdown",
      "metadata": {
        "id": "colab"
      },
      "source": [
        "[![Open In Colab](https://colab.research.google.com/assets/colab-badge.svg)](https://colab.research.google.com/github/RlNZLER/Subtitle-Generator-Translator/blob/main/src/whisper.ipynb)"
      ]
    },
    {
      "cell_type": "markdown",
      "metadata": {
        "id": "step1"
      },
      "source": [
        "# Step 1:\n",
        "# Execute the following task and upload an audio file, or files, to the content directory while you wait for the task to complete."
      ]
    },
    {
      "cell_type": "code",
      "execution_count": null,
      "metadata": {
        "id": "git"
      },
      "outputs": [],
      "source": [
        "!pip install git+https://github.com/openai/whisper.git"
      ]
    },
    {
      "cell_type": "markdown",
      "metadata": {
        "id": "step2"
      },
      "source": [
        "# Step 2:\n",
        "# Once the above task has completed and all audio files have successfully been uploaded to the content directory, execute the follow task."
      ]
    },
    {
      "cell_type": "code",
      "execution_count": null,
      "metadata": {
        "id": "generate"
      },
      "outputs": [],
      "source": [
        "import glob, os\n",
        "audioFiles = glob.glob('/content/*.*')\n",
        "for i in range(len(audioFiles)):\n",
        "  for audioFile in glob.glob(audioFiles[i]):\n",
        "    baseFile = os.path.splitext(audioFile)[0]\n",
        "    !whisper --model turbo --output_format srt --task transcribe \"$audioFile\"\n",
        "    os.remove(audioFile)"
      ]
    },
    {
      "cell_type": "markdown",
      "metadata": {
        "id": "step3"
      },
      "source": [
        "# Step 3:\n",
        "# Download your SRT files from the content directory."
      ]
    },
    {
      "cell_type": "markdown",
      "metadata": {},
      "source": [
        "## Install & imports"
      ]
    },
    {
      "cell_type": "code",
      "execution_count": null,
      "metadata": {},
      "outputs": [],
      "source": [
        "# @title Install dependencies\n",
        "!pip -q install srt deep-translator deepl\n",
        "\n",
        "import os\n",
        "import time\n",
        "from typing import List\n",
        "import srt\n",
        "\n",
        "# Colab helpers\n",
        "try:\n",
        "    from google.colab import files\n",
        "except ImportError:\n",
        "    files = None"
      ]
    },
    {
      "cell_type": "code",
      "execution_count": null,
      "metadata": {},
      "outputs": [],
      "source": [
        "# @title Upload your SRT file\n",
        "# @markdown Click \"Choose Files\" and select your `.srt`\n",
        "\n",
        "input_path = '/content/*.*'\n",
        "print(f\"Uploaded: {input_path}\")\n"
      ]
    },
    {
      "cell_type": "markdown",
      "metadata": {},
      "source": [
        "## Configure translation backend (Google by default)"
      ]
    },
    {
      "cell_type": "code",
      "execution_count": null,
      "metadata": {},
      "outputs": [],
      "source": [
        "# @title Backend settings\n",
        "# @markdown - **backend**: \"google\" (no key) or \"deepl\" (requires API key)<br>\n",
        "# @markdown - **source_lang**: \"auto\" to autodetect<br>\n",
        "# @markdown - **target_lang**: e.g., \"en\" or \"en-GB\" (DeepL maps to EN)\n",
        "\n",
        "backend       = \"google\"  # @param [\"google\", \"deepl\"]\n",
        "source_lang   = \"auto\"    # @param {type:\"string\"}\n",
        "target_lang   = \"en\"      # @param {type:\"string\"}\n",
        "batch_size    = 40        # @param {type:\"integer\"}\n",
        "sleep_seconds = 0.5       # @param {type:\"number\"}\n",
        "\n",
        "# For DeepL, set your API key here or in an env var named DEEPL_API_KEY\n",
        "DEEPL_API_KEY = \"\"        # @param {type:\"string\"}\n",
        "if not DEEPL_API_KEY:\n",
        "    DEEPL_API_KEY = os.environ.get(\"DEEPL_API_KEY\", \"\")\n"
      ]
    },
    {
      "cell_type": "markdown",
      "metadata": {},
      "source": [
        "## Translate and download"
      ]
    },
    {
      "cell_type": "code",
      "execution_count": null,
      "metadata": {},
      "outputs": [],
      "source": [
        "# @title Translate and download the English SRT\n",
        "from typing import List\n",
        "\n",
        "class Translator:\n",
        "    def translate_batch(self, texts: List[str]) -> List[str]:\n",
        "        raise NotImplementedError\n",
        "\n",
        "class GoogleTranslatorBackend(Translator):\n",
        "    def __init__(self, source: str = \"auto\", target: str = \"en\"):\n",
        "        from deep_translator import GoogleTranslator\n",
        "        self._translator = GoogleTranslator(source=source, target=target)\n",
        "\n",
        "    def translate_batch(self, texts: List[str]) -> List[str]:\n",
        "        return self._translator.translate_batch(texts)\n",
        "\n",
        "class DeepLBackend(Translator):\n",
        "    def __init__(self, auth_key: str, target: str = \"EN\", source: str | None = None):\n",
        "        import deepl\n",
        "        self._translator = deepl.Translator(auth_key)\n",
        "        self._source = None if source in (None, \"auto\") else source\n",
        "        self._target = target.upper()  # EN, EN-GB, EN-US are fine\n",
        "\n",
        "    def translate_batch(self, texts: List[str]) -> List[str]:\n",
        "        import deepl\n",
        "        res = self._translator.translate_text(\n",
        "            texts,\n",
        "            target_lang=self._target,\n",
        "            source_lang=self._source,\n",
        "            formality=\"default\",\n",
        "        )\n",
        "        return [r.text if isinstance(r, deepl.TextResult) else str(r) for r in res]\n",
        "\n",
        "def chunked(seq: List[str], n: int) -> List[List[str]]:\n",
        "    return [seq[i:i + n] for i in range(0, len(seq), n)]\n",
        "\n",
        "def build_translator(backend: str, source: str, target: str, deepl_key: str = \"\") -> Translator:\n",
        "    if backend.lower() == \"google\":\n",
        "        return GoogleTranslatorBackend(source=source, target=target)\n",
        "    elif backend.lower() == \"deepl\":\n",
        "        key = deepl_key or os.environ.get(\"DEEPL_API_KEY\", \"\")\n",
        "        if not key:\n",
        "            raise ValueError(\"DeepL selected but no key provided. Set DEEPL_API_KEY or fill DEEPL_API_KEY cell value.\")\n",
        "        # Map 'en' variants to EN for DeepL\n",
        "        t = \"EN\" if target.lower().startswith(\"en\") else target\n",
        "        return DeepLBackend(auth_key=key, target=t, source=source)\n",
        "    else:\n",
        "        raise ValueError(f\"Unknown backend: {backend}\")\n",
        "\n",
        "def translate_srt(\n",
        "    input_path: str,\n",
        "    output_path: str,\n",
        "    backend: str = \"google\",\n",
        "    source_lang: str = \"auto\",\n",
        "    target_lang: str = \"en\",\n",
        "    batch_size: int = 40,\n",
        "    sleep_between_batches: float = 0.5,\n",
        "    deepl_key: str = \"\",\n",
        "):\n",
        "    with open(input_path, \"r\", encoding=\"utf-8-sig\") as f:\n",
        "        raw = f.read()\n",
        "\n",
        "    subtitles = list(srt.parse(raw))\n",
        "    if not subtitles:\n",
        "        raise ValueError(\"No subtitles found in the uploaded file.\")\n",
        "\n",
        "    texts = [s.content for s in subtitles]\n",
        "    translator = build_translator(backend, source_lang, target_lang, deepl_key)\n",
        "\n",
        "    translated_all: List[str] = []\n",
        "    for i, batch in enumerate(chunked(texts, batch_size), start=1):\n",
        "        try:\n",
        "            translated = translator.translate_batch(batch)\n",
        "        except Exception as e:\n",
        "            # simple retry once for transient failures on public endpoints\n",
        "            if backend.lower() == \"google\":\n",
        "                time.sleep(2.0)\n",
        "                translated = translator.translate_batch(batch)\n",
        "            else:\n",
        "                raise e\n",
        "        translated_all.extend(translated)\n",
        "        if sleep_between_batches and i * batch_size < len(texts):\n",
        "            time.sleep(sleep_between_batches)\n",
        "\n",
        "    for sub, new_text in zip(subtitles, translated_all):\n",
        "        sub.content = new_text\n",
        "\n",
        "    out_text = srt.compose(subtitles)\n",
        "    with open(output_path, \"w\", encoding=\"utf-8\") as f:\n",
        "        f.write(out_text)\n",
        "\n",
        "# Run translation\n",
        "base, ext = os.path.splitext(input_path)\n",
        "output_path = f\"{base}_en.srt\" if target_lang.lower().startswith(\"en\") else f\"{base}_{target_lang}.srt\"\n",
        "\n",
        "translate_srt(\n",
        "    input_path=input_path,\n",
        "    output_path=output_path,\n",
        "    backend=backend,\n",
        "    source_lang=source_lang,\n",
        "    target_lang=target_lang,\n",
        "    batch_size=batch_size,\n",
        "    sleep_between_batches=sleep_seconds,\n",
        "    deepl_key=DEEPL_API_KEY,\n",
        ")\n",
        "\n",
        "print(f\"✅ Done. Saved: {output_path}\")\n",
        "\n",
        "# Offer download\n",
        "if files is not None:\n",
        "    files.download(output_path)\n"
      ]
    }
  ],
  "metadata": {
    "accelerator": "GPU",
    "colab": {
      "gpuType": "T4",
      "private_outputs": true,
      "provenance": []
    },
    "kernelspec": {
      "display_name": "Python 3",
      "name": "python3"
    },
    "language_info": {
      "name": "python"
    }
  },
  "nbformat": 4,
  "nbformat_minor": 0
}
